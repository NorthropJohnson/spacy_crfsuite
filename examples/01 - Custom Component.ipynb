{
 "cells": [
  {
   "cell_type": "code",
   "execution_count": 1,
   "metadata": {},
   "outputs": [
    {
     "data": {
      "text/markdown": [
       "## restaurant_search\n",
       "- i'm looking for a place to eat\n",
       "- I want to grab lunch\n",
       "- I am searching for a dinner spot\n",
       "- i'm looking for a place in the [north](location) of town\n",
       "- show me [chinese](cuisine) restaurants\n",
       "- show me [chines](cuisine:chinese) restaurants in the [north](location)\n",
       "- show me a [mexican](cuisine) place in the [centre](location)\n",
       "- i am looking for an [indian](cuisine) spot called olaolaolaolaolaola\n",
       "- search for restaurants\n",
       "- anywhere in the [west](location)\n",
       "- anywhere near [18328](location)\n",
       "- I am looking for [asian fusion](cuisine) food\n",
       "- I am looking a restaurant in [29432](location)\n",
       "- I am looking for [mexican indian fusion](cuisine)\n",
       "- [central](location) [indian](cuisine) restaurant"
      ],
      "text/plain": [
       "<IPython.core.display.Markdown object>"
      ]
     },
     "metadata": {},
     "output_type": "display_data"
    }
   ],
   "source": [
    "from IPython.display import display, Markdown\n",
    "\n",
    "with open(\"restaurent_search.md\", \"r\") as f:\n",
    "    display(Markdown(f.read()))"
   ]
  },
  {
   "cell_type": "code",
   "execution_count": null,
   "metadata": {},
   "outputs": [],
   "source": []
  },
  {
   "cell_type": "code",
   "execution_count": 2,
   "metadata": {},
   "outputs": [
    {
     "data": {
      "text/plain": [
       "[{'text': \"i'm looking for a place to eat\", 'entities': []},\n",
       " {'text': 'I want to grab lunch', 'entities': []},\n",
       " {'text': 'I am searching for a dinner spot', 'entities': []},\n",
       " {'text': \"i'm looking for a place in the north of town\",\n",
       "  'entities': [{'start': 31,\n",
       "    'end': 36,\n",
       "    'value': 'north',\n",
       "    'entity': 'location'}]},\n",
       " {'text': 'show me chinese restaurants',\n",
       "  'entities': [{'start': 8,\n",
       "    'end': 15,\n",
       "    'value': 'chinese',\n",
       "    'entity': 'cuisine'}]},\n",
       " {'text': 'show me chines restaurants in the north',\n",
       "  'entities': [{'start': 8,\n",
       "    'end': 14,\n",
       "    'value': 'chinese',\n",
       "    'entity': 'cuisine'},\n",
       "   {'start': 34, 'end': 39, 'value': 'north', 'entity': 'location'}]},\n",
       " {'text': 'show me a mexican place in the centre',\n",
       "  'entities': [{'start': 10,\n",
       "    'end': 17,\n",
       "    'value': 'mexican',\n",
       "    'entity': 'cuisine'},\n",
       "   {'start': 31, 'end': 37, 'value': 'centre', 'entity': 'location'}]},\n",
       " {'text': 'i am looking for an indian spot called olaolaolaolaolaola',\n",
       "  'entities': [{'start': 20,\n",
       "    'end': 26,\n",
       "    'value': 'indian',\n",
       "    'entity': 'cuisine'}]},\n",
       " {'text': 'search for restaurants', 'entities': []},\n",
       " {'text': 'anywhere in the west',\n",
       "  'entities': [{'start': 16,\n",
       "    'end': 20,\n",
       "    'value': 'west',\n",
       "    'entity': 'location'}]},\n",
       " {'text': 'anywhere near 18328',\n",
       "  'entities': [{'start': 14,\n",
       "    'end': 19,\n",
       "    'value': '18328',\n",
       "    'entity': 'location'}]},\n",
       " {'text': 'I am looking for asian fusion food',\n",
       "  'entities': [{'start': 17,\n",
       "    'end': 29,\n",
       "    'value': 'asian fusion',\n",
       "    'entity': 'cuisine'}]},\n",
       " {'text': 'I am looking a restaurant in 29432',\n",
       "  'entities': [{'start': 29,\n",
       "    'end': 34,\n",
       "    'value': '29432',\n",
       "    'entity': 'location'}]},\n",
       " {'text': 'I am looking for mexican indian fusion',\n",
       "  'entities': [{'start': 17,\n",
       "    'end': 38,\n",
       "    'value': 'mexican indian fusion',\n",
       "    'entity': 'cuisine'}]},\n",
       " {'text': 'central indian restaurant',\n",
       "  'entities': [{'start': 0,\n",
       "    'end': 7,\n",
       "    'value': 'central',\n",
       "    'entity': 'location'},\n",
       "   {'start': 8, 'end': 14, 'value': 'indian', 'entity': 'cuisine'}]}]"
      ]
     },
     "execution_count": 2,
     "metadata": {},
     "output_type": "execute_result"
    }
   ],
   "source": [
    "from spacy_crfsuite import read_file\n",
    "\n",
    "train_data = read_file(\"restaurent_search.md\")\n",
    "train_data"
   ]
  },
  {
   "cell_type": "code",
   "execution_count": null,
   "metadata": {},
   "outputs": [],
   "source": []
  },
  {
   "cell_type": "code",
   "execution_count": 3,
   "metadata": {},
   "outputs": [
    {
     "name": "stderr",
     "output_type": "stream",
     "text": [
      "/Users/talmago/git/spacy_crfsuite/.venv/lib/python3.6/site-packages/spacy/util.py:275: UserWarning: [W031] Model 'en_core_web_sm' (2.2.5) requires spaCy v2.2 and is incompatible with the current spaCy version (2.3.2). This may lead to unexpected results or runtime errors. To resolve this, download a newer compatible model or retrain your custom model with the current spaCy version. For more details and available updates, run: python -m spacy validate\n",
      "  warnings.warn(warn_msg)\n"
     ]
    },
    {
     "data": {
      "text/plain": [
       "[CRFToken(text='i', tag='PRP', entity='O', pattern={}, dense_features=[]),\n",
       " CRFToken(text=\"'m\", tag='VBP', entity='O', pattern={}, dense_features=[]),\n",
       " CRFToken(text='looking', tag='VBG', entity='O', pattern={}, dense_features=[]),\n",
       " CRFToken(text='for', tag='IN', entity='O', pattern={}, dense_features=[]),\n",
       " CRFToken(text='a', tag='DT', entity='O', pattern={}, dense_features=[]),\n",
       " CRFToken(text='place', tag='NN', entity='O', pattern={}, dense_features=[]),\n",
       " CRFToken(text='to', tag='TO', entity='O', pattern={}, dense_features=[]),\n",
       " CRFToken(text='eat', tag='VB', entity='O', pattern={}, dense_features=[])]"
      ]
     },
     "execution_count": 3,
     "metadata": {},
     "output_type": "execute_result"
    }
   ],
   "source": [
    "import spacy\n",
    "\n",
    "from spacy_crfsuite.crf_extractor import prepare_example\n",
    "from spacy_crfsuite.tokenizer import SpacyTokenizer\n",
    "\n",
    "nlp = spacy.load(\"en_core_web_sm\")\n",
    "tokenizer = SpacyTokenizer(nlp)\n",
    "\n",
    "train_dataset = [prepare_example(ex, tokenizer=tokenizer) for ex in train_data]\n",
    "train_dataset[0]"
   ]
  },
  {
   "cell_type": "code",
   "execution_count": null,
   "metadata": {},
   "outputs": [],
   "source": []
  },
  {
   "cell_type": "code",
   "execution_count": 4,
   "metadata": {},
   "outputs": [
    {
     "data": {
      "text/plain": [
       "{'features': [['low', 'title', 'upper'],\n",
       "  ['low',\n",
       "   'bias',\n",
       "   'prefix5',\n",
       "   'prefix2',\n",
       "   'suffix5',\n",
       "   'suffix3',\n",
       "   'suffix2',\n",
       "   'upper',\n",
       "   'title',\n",
       "   'digit'],\n",
       "  ['low', 'title', 'upper']],\n",
       " 'c1': 0.003,\n",
       " 'c2': 0.03}"
      ]
     },
     "execution_count": 4,
     "metadata": {},
     "output_type": "execute_result"
    }
   ],
   "source": [
    "import srsly\n",
    "\n",
    "component_config = srsly.read_json(\"default-config.json\")\n",
    "component_config"
   ]
  },
  {
   "cell_type": "code",
   "execution_count": null,
   "metadata": {},
   "outputs": [],
   "source": []
  },
  {
   "cell_type": "code",
   "execution_count": 5,
   "metadata": {},
   "outputs": [
    {
     "data": {
      "text/plain": [
       "<spacy_crfsuite.crf_extractor.CRFExtractor at 0x12496bb00>"
      ]
     },
     "execution_count": 5,
     "metadata": {},
     "output_type": "execute_result"
    }
   ],
   "source": [
    "from spacy_crfsuite import CRFExtractor\n",
    "\n",
    "crf_extractor = CRFExtractor(component_config=component_config)\n",
    "crf_extractor"
   ]
  },
  {
   "cell_type": "code",
   "execution_count": null,
   "metadata": {},
   "outputs": [],
   "source": []
  },
  {
   "cell_type": "code",
   "execution_count": null,
   "metadata": {},
   "outputs": [],
   "source": []
  },
  {
   "cell_type": "code",
   "execution_count": null,
   "metadata": {},
   "outputs": [
    {
     "name": "stdout",
     "output_type": "stream",
     "text": [
      "Fitting 3 folds for each of 100 candidates, totalling 300 fits\n"
     ]
    },
    {
     "name": "stderr",
     "output_type": "stream",
     "text": [
      "/Users/talmago/git/spacy_crfsuite/.venv/lib/python3.6/site-packages/sklearn/base.py:213: FutureWarning: From version 0.24, get_params will raise an AttributeError if a parameter cannot be retrieved as an instance attribute. Previously it would return None.\n",
      "  FutureWarning)\n",
      "[Parallel(n_jobs=-1)]: Using backend LokyBackend with 8 concurrent workers.\n"
     ]
    }
   ],
   "source": [
    "crf_extractor.fine_tune(train_dataset, n_iter=100, random_state=42).best_params_"
   ]
  },
  {
   "cell_type": "code",
   "execution_count": null,
   "metadata": {},
   "outputs": [],
   "source": []
  },
  {
   "cell_type": "code",
   "execution_count": null,
   "metadata": {},
   "outputs": [],
   "source": []
  },
  {
   "cell_type": "code",
   "execution_count": null,
   "metadata": {},
   "outputs": [],
   "source": [
    "crf_extractor.component_config[\"c1\"] = 0.003\n",
    "crf_extractor.component_config[\"c2\"] = 0.03\n",
    "crf_extractor.train(train_dataset)"
   ]
  },
  {
   "cell_type": "code",
   "execution_count": null,
   "metadata": {},
   "outputs": [],
   "source": []
  },
  {
   "cell_type": "code",
   "execution_count": null,
   "metadata": {},
   "outputs": [],
   "source": [
    "# ! pip install sklearn\n",
    "\n",
    "classification_report = crf_extractor.eval(train_dataset)\n",
    "print(classification_report[1])"
   ]
  },
  {
   "cell_type": "code",
   "execution_count": null,
   "metadata": {},
   "outputs": [],
   "source": []
  },
  {
   "cell_type": "code",
   "execution_count": null,
   "metadata": {},
   "outputs": [],
   "source": [
    "print(crf_extractor.explain())"
   ]
  },
  {
   "cell_type": "code",
   "execution_count": null,
   "metadata": {},
   "outputs": [],
   "source": []
  },
  {
   "cell_type": "code",
   "execution_count": null,
   "metadata": {},
   "outputs": [],
   "source": [
    "from spacy_crfsuite.dense_features import DenseFeatures\n",
    "\n",
    "example = {\"text\": \"show mexican restaurents up north\"}\n",
    "prepare_example(example)\n",
    "crf_extractor.process(example)"
   ]
  },
  {
   "cell_type": "code",
   "execution_count": null,
   "metadata": {},
   "outputs": [],
   "source": []
  },
  {
   "cell_type": "code",
   "execution_count": null,
   "metadata": {},
   "outputs": [],
   "source": [
    "import spacy\n",
    "\n",
    "from spacy_crfsuite import CRFEntityExtractor\n",
    "\n",
    "nlp = spacy.blank('en')\n",
    "pipe = CRFEntityExtractor(nlp, crf_extractor=crf_extractor)\n",
    "nlp.add_pipe(pipe)\n",
    "\n",
    "doc = nlp(\"show mexican restaurents up north\")\n",
    "for ent in doc.ents:\n",
    "    print(ent.text, \"--\", ent.label_)"
   ]
  },
  {
   "cell_type": "code",
   "execution_count": null,
   "metadata": {},
   "outputs": [],
   "source": []
  },
  {
   "cell_type": "code",
   "execution_count": null,
   "metadata": {},
   "outputs": [],
   "source": [
    "# Save model to disk ...\n",
    "# crf_extractor.to_disk()"
   ]
  },
  {
   "cell_type": "code",
   "execution_count": null,
   "metadata": {},
   "outputs": [],
   "source": []
  },
  {
   "cell_type": "code",
   "execution_count": null,
   "metadata": {},
   "outputs": [],
   "source": []
  }
 ],
 "metadata": {
  "kernelspec": {
   "display_name": "Python 3",
   "language": "python",
   "name": "python3"
  },
  "language_info": {
   "codemirror_mode": {
    "name": "ipython",
    "version": 3
   },
   "file_extension": ".py",
   "mimetype": "text/x-python",
   "name": "python",
   "nbconvert_exporter": "python",
   "pygments_lexer": "ipython3",
   "version": "3.6.9"
  }
 },
 "nbformat": 4,
 "nbformat_minor": 4
}
