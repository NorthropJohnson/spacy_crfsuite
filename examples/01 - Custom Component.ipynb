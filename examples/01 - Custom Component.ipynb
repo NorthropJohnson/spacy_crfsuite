{
 "cells": [
  {
   "cell_type": "code",
   "execution_count": 1,
   "metadata": {},
   "outputs": [
    {
     "data": {
      "text/markdown": [
       "## restaurant_search\n",
       "- i'm looking for a place to eat\n",
       "- I want to grab lunch\n",
       "- I am searching for a dinner spot\n",
       "- i'm looking for a place in the [north](location) of town\n",
       "- show me [chinese](cuisine) restaurants\n",
       "- show me [chines](cuisine:chinese) restaurants in the [north](location)\n",
       "- show me a [mexican](cuisine) place in the [centre](location)\n",
       "- i am looking for an [indian](cuisine) spot called olaolaolaolaolaola\n",
       "- search for restaurants\n",
       "- anywhere in the [west](location)\n",
       "- anywhere near [18328](location)\n",
       "- I am looking for [asian fusion](cuisine) food\n",
       "- I am looking a restaurant in [29432](location)\n",
       "- I am looking for [mexican indian fusion](cuisine)\n",
       "- [central](location) [indian](cuisine) restaurant"
      ],
      "text/plain": [
       "<IPython.core.display.Markdown object>"
      ]
     },
     "metadata": {},
     "output_type": "display_data"
    }
   ],
   "source": [
    "from IPython.display import display, Markdown\n",
    "\n",
    "with open(\"data/example.md\", \"r\") as f:\n",
    "    display(Markdown(f.read()))"
   ]
  },
  {
   "cell_type": "code",
   "execution_count": null,
   "metadata": {},
   "outputs": [],
   "source": []
  },
  {
   "cell_type": "code",
   "execution_count": null,
   "metadata": {},
   "outputs": [],
   "source": []
  },
  {
   "cell_type": "code",
   "execution_count": 2,
   "metadata": {},
   "outputs": [
    {
     "data": {
      "text/plain": [
       "[{'text': \"i'm looking for a place to eat\", 'entities': []},\n",
       " {'text': 'I want to grab lunch', 'entities': []},\n",
       " {'text': 'I am searching for a dinner spot', 'entities': []},\n",
       " {'text': \"i'm looking for a place in the north of town\",\n",
       "  'entities': [{'start': 31,\n",
       "    'end': 36,\n",
       "    'value': 'north',\n",
       "    'entity': 'location'}]},\n",
       " {'text': 'show me chinese restaurants',\n",
       "  'entities': [{'start': 8,\n",
       "    'end': 15,\n",
       "    'value': 'chinese',\n",
       "    'entity': 'cuisine'}]},\n",
       " {'text': 'show me chines restaurants in the north',\n",
       "  'entities': [{'start': 8,\n",
       "    'end': 14,\n",
       "    'value': 'chinese',\n",
       "    'entity': 'cuisine'},\n",
       "   {'start': 34, 'end': 39, 'value': 'north', 'entity': 'location'}]},\n",
       " {'text': 'show me a mexican place in the centre',\n",
       "  'entities': [{'start': 10,\n",
       "    'end': 17,\n",
       "    'value': 'mexican',\n",
       "    'entity': 'cuisine'},\n",
       "   {'start': 31, 'end': 37, 'value': 'centre', 'entity': 'location'}]},\n",
       " {'text': 'i am looking for an indian spot called olaolaolaolaolaola',\n",
       "  'entities': [{'start': 20,\n",
       "    'end': 26,\n",
       "    'value': 'indian',\n",
       "    'entity': 'cuisine'}]},\n",
       " {'text': 'search for restaurants', 'entities': []},\n",
       " {'text': 'anywhere in the west',\n",
       "  'entities': [{'start': 16,\n",
       "    'end': 20,\n",
       "    'value': 'west',\n",
       "    'entity': 'location'}]},\n",
       " {'text': 'anywhere near 18328',\n",
       "  'entities': [{'start': 14,\n",
       "    'end': 19,\n",
       "    'value': '18328',\n",
       "    'entity': 'location'}]},\n",
       " {'text': 'I am looking for asian fusion food',\n",
       "  'entities': [{'start': 17,\n",
       "    'end': 29,\n",
       "    'value': 'asian fusion',\n",
       "    'entity': 'cuisine'}]},\n",
       " {'text': 'I am looking a restaurant in 29432',\n",
       "  'entities': [{'start': 29,\n",
       "    'end': 34,\n",
       "    'value': '29432',\n",
       "    'entity': 'location'}]},\n",
       " {'text': 'I am looking for mexican indian fusion',\n",
       "  'entities': [{'start': 17,\n",
       "    'end': 38,\n",
       "    'value': 'mexican indian fusion',\n",
       "    'entity': 'cuisine'}]},\n",
       " {'text': 'central indian restaurant',\n",
       "  'entities': [{'start': 0,\n",
       "    'end': 7,\n",
       "    'value': 'central',\n",
       "    'entity': 'location'},\n",
       "   {'start': 8, 'end': 14, 'value': 'indian', 'entity': 'cuisine'}]}]"
      ]
     },
     "execution_count": 2,
     "metadata": {},
     "output_type": "execute_result"
    }
   ],
   "source": [
    "from spacy_crfsuite import read_file\n",
    "\n",
    "train_data = read_file(\"data/example.md\")\n",
    "train_data"
   ]
  },
  {
   "cell_type": "code",
   "execution_count": null,
   "metadata": {},
   "outputs": [],
   "source": []
  },
  {
   "cell_type": "code",
   "execution_count": 3,
   "metadata": {},
   "outputs": [
    {
     "data": {
      "text/plain": [
       "{'c1': 0.03, 'c2': 0.06}"
      ]
     },
     "execution_count": 3,
     "metadata": {},
     "output_type": "execute_result"
    }
   ],
   "source": [
    "import srsly\n",
    "\n",
    "component_config = srsly.read_json(\"data/config.json\")\n",
    "component_config"
   ]
  },
  {
   "cell_type": "code",
   "execution_count": null,
   "metadata": {},
   "outputs": [],
   "source": []
  },
  {
   "cell_type": "code",
   "execution_count": 4,
   "metadata": {},
   "outputs": [
    {
     "data": {
      "text/plain": [
       "<spacy_crfsuite.crf_extractor.CRFExtractor at 0x12a569b38>"
      ]
     },
     "execution_count": 4,
     "metadata": {},
     "output_type": "execute_result"
    }
   ],
   "source": [
    "from spacy_crfsuite import CRFExtractor\n",
    "\n",
    "crf_extractor = CRFExtractor(component_config=component_config)\n",
    "crf_extractor"
   ]
  },
  {
   "cell_type": "code",
   "execution_count": null,
   "metadata": {},
   "outputs": [],
   "source": []
  },
  {
   "cell_type": "code",
   "execution_count": 5,
   "metadata": {},
   "outputs": [
    {
     "data": {
      "text/plain": [
       "[CRFToken(text='i', tag='PRP', entity='O', pattern={}, dense_features=[]),\n",
       " CRFToken(text=\"'m\", tag='VBP', entity='O', pattern={}, dense_features=[]),\n",
       " CRFToken(text='looking', tag='', entity='O', pattern={}, dense_features=[]),\n",
       " CRFToken(text='for', tag='', entity='O', pattern={}, dense_features=[]),\n",
       " CRFToken(text='a', tag='', entity='O', pattern={}, dense_features=[]),\n",
       " CRFToken(text='place', tag='', entity='O', pattern={}, dense_features=[]),\n",
       " CRFToken(text='to', tag='', entity='O', pattern={}, dense_features=[]),\n",
       " CRFToken(text='eat', tag='', entity='O', pattern={}, dense_features=[])]"
      ]
     },
     "execution_count": 5,
     "metadata": {},
     "output_type": "execute_result"
    }
   ],
   "source": [
    "from spacy_crfsuite.crf_extractor import prepare_example\n",
    "from spacy_crfsuite.dense_features import DenseFeatures\n",
    "from spacy_crfsuite.tokenizer import SpacyTokenizer\n",
    "\n",
    "tokenizer = SpacyTokenizer()\n",
    "\n",
    "if crf_extractor.use_dense_features():\n",
    "    dense_features = DenseFeatures()\n",
    "else:\n",
    "    dense_features = None\n",
    "\n",
    "train_dataset = [\n",
    "    prepare_example(ex, \n",
    "                    crf_extractor=crf_extractor, \n",
    "                    tokenizer=tokenizer, \n",
    "                    dense_features=dense_features) for ex in train_data\n",
    "]\n",
    "\n",
    "train_dataset[0]"
   ]
  },
  {
   "cell_type": "code",
   "execution_count": 6,
   "metadata": {},
   "outputs": [
    {
     "data": {
      "text/plain": [
       "<spacy_crfsuite.crf_extractor.CRFExtractor at 0x12a569b38>"
      ]
     },
     "execution_count": 6,
     "metadata": {},
     "output_type": "execute_result"
    }
   ],
   "source": [
    "crf_extractor.train(train_dataset)"
   ]
  },
  {
   "cell_type": "code",
   "execution_count": null,
   "metadata": {},
   "outputs": [],
   "source": []
  },
  {
   "cell_type": "code",
   "execution_count": 7,
   "metadata": {},
   "outputs": [
    {
     "name": "stdout",
     "output_type": "stream",
     "text": [
      "              precision    recall  f1-score   support\n",
      "\n",
      "   B-cuisine      1.000     1.000     1.000         2\n",
      "   I-cuisine      1.000     1.000     1.000         1\n",
      "   L-cuisine      1.000     1.000     1.000         2\n",
      "   U-cuisine      1.000     1.000     1.000         5\n",
      "  U-location      1.000     1.000     1.000         7\n",
      "\n",
      "   micro avg      1.000     1.000     1.000        17\n",
      "   macro avg      1.000     1.000     1.000        17\n",
      "weighted avg      1.000     1.000     1.000        17\n",
      "\n"
     ]
    },
    {
     "name": "stderr",
     "output_type": "stream",
     "text": [
      "/Users/talmago/git/spacy_crfsuite/.venv/lib/python3.6/site-packages/sklearn/utils/validation.py:71: FutureWarning: Pass labels=['B-cuisine', 'I-cuisine', 'L-cuisine', 'U-cuisine', 'U-location'] as keyword args. From version 0.25 passing these as positional arguments will result in an error\n",
      "  FutureWarning)\n"
     ]
    }
   ],
   "source": [
    "# ! pip install sklearn\n",
    "\n",
    "classification_report = crf_extractor.eval(train_dataset)\n",
    "print(classification_report[1])"
   ]
  },
  {
   "cell_type": "code",
   "execution_count": null,
   "metadata": {},
   "outputs": [],
   "source": []
  },
  {
   "cell_type": "code",
   "execution_count": 8,
   "metadata": {},
   "outputs": [
    {
     "name": "stdout",
     "output_type": "stream",
     "text": [
      "Most likely transitions:\n",
      "O          -> O          1.617362\n",
      "U-cuisine  -> O          1.277659\n",
      "B-cuisine  -> I-cuisine  1.206597\n",
      "I-cuisine  -> L-cuisine  0.800963\n",
      "O          -> U-location 0.719703\n",
      "B-cuisine  -> L-cuisine  0.589600\n",
      "O          -> U-cuisine  0.402591\n",
      "U-location -> U-cuisine  0.325804\n",
      "O          -> B-cuisine  0.150878\n",
      "L-cuisine  -> O          0.087336\n",
      "\n",
      "Positive features:\n",
      "2.186071 O          0:bias:bias\n",
      "1.973212 U-location -1:low:the\n",
      "1.135395 B-cuisine  -1:low:for\n",
      "1.121395 U-location 0:prefix5:centr\n",
      "1.121395 U-location 0:prefix2:ce\n",
      "1.106081 U-location 0:digit\n",
      "1.019241 U-cuisine  0:prefix5:chine\n",
      "1.019241 U-cuisine  0:prefix2:ch\n",
      "1.011240 U-cuisine  0:suffix2:an\n",
      "0.945071 U-cuisine  -1:low:me\n"
     ]
    }
   ],
   "source": [
    "print(crf_extractor.explain())"
   ]
  },
  {
   "cell_type": "code",
   "execution_count": null,
   "metadata": {},
   "outputs": [],
   "source": []
  },
  {
   "cell_type": "code",
   "execution_count": null,
   "metadata": {},
   "outputs": [],
   "source": []
  },
  {
   "cell_type": "code",
   "execution_count": null,
   "metadata": {},
   "outputs": [],
   "source": []
  },
  {
   "cell_type": "code",
   "execution_count": 9,
   "metadata": {},
   "outputs": [
    {
     "data": {
      "text/plain": [
       "[{'start': 5,\n",
       "  'end': 12,\n",
       "  'value': 'mexican',\n",
       "  'entity': 'cuisine',\n",
       "  'confidence': 0.5823148506311286},\n",
       " {'start': 28,\n",
       "  'end': 33,\n",
       "  'value': 'north',\n",
       "  'entity': 'location',\n",
       "  'confidence': 0.8863076478494413}]"
      ]
     },
     "execution_count": 9,
     "metadata": {},
     "output_type": "execute_result"
    }
   ],
   "source": [
    "from spacy_crfsuite.tokenizer import SpacyTokenizer\n",
    "from spacy_crfsuite.dense_features import DenseFeatures\n",
    "\n",
    "example = {\"text\": \"show mexican restaurents up north\"}\n",
    "prepare_example(example, crf_extractor=crf_extractor, tokenizer=tokenizer, dense_features=dense_features)\n",
    "crf_extractor.process(example)"
   ]
  },
  {
   "cell_type": "code",
   "execution_count": null,
   "metadata": {},
   "outputs": [],
   "source": []
  },
  {
   "cell_type": "code",
   "execution_count": null,
   "metadata": {},
   "outputs": [],
   "source": []
  },
  {
   "cell_type": "code",
   "execution_count": 10,
   "metadata": {},
   "outputs": [
    {
     "name": "stdout",
     "output_type": "stream",
     "text": [
      "mexican -- cuisine\n",
      "north -- location\n"
     ]
    }
   ],
   "source": [
    "import spacy\n",
    "\n",
    "from spacy_crfsuite import CRFEntityExtractor\n",
    "\n",
    "nlp = spacy.blank('en')\n",
    "pipe = CRFEntityExtractor(nlp, crf_extractor=crf_extractor)\n",
    "nlp.add_pipe(pipe)\n",
    "\n",
    "doc = nlp(\"show mexican restaurents up north\")\n",
    "for ent in doc.ents:\n",
    "    print(ent.text, \"--\", ent.label_)"
   ]
  },
  {
   "cell_type": "code",
   "execution_count": null,
   "metadata": {},
   "outputs": [],
   "source": []
  },
  {
   "cell_type": "code",
   "execution_count": null,
   "metadata": {},
   "outputs": [],
   "source": [
    "crf_extractor.to_disk()"
   ]
  },
  {
   "cell_type": "code",
   "execution_count": null,
   "metadata": {},
   "outputs": [],
   "source": []
  },
  {
   "cell_type": "code",
   "execution_count": null,
   "metadata": {},
   "outputs": [],
   "source": []
  }
 ],
 "metadata": {
  "kernelspec": {
   "display_name": "Python 3",
   "language": "python",
   "name": "python3"
  },
  "language_info": {
   "codemirror_mode": {
    "name": "ipython",
    "version": 3
   },
   "file_extension": ".py",
   "mimetype": "text/x-python",
   "name": "python",
   "nbconvert_exporter": "python",
   "pygments_lexer": "ipython3",
   "version": "3.6.9"
  }
 },
 "nbformat": 4,
 "nbformat_minor": 4
}
