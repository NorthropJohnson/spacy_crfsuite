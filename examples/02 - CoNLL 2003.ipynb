{
 "cells": [
  {
   "cell_type": "code",
   "execution_count": 1,
   "metadata": {},
   "outputs": [],
   "source": [
    "# Uncomment to download the CoNLL 2003 dataset\n",
    "# \n",
    "# ! mkdir -p conll03\n",
    "# ! wget -q -O conll03/train.conll https://raw.githubusercontent.com/davidsbatista/NER-datasets/master/CONLL2003/train.txt\n",
    "# ! wget -q -O conll03/valid.conll https://raw.githubusercontent.com/davidsbatista/NER-datasets/master/CONLL2003/valid.txt\n",
    "# ! wget -q -O conll03/test.conll https://raw.githubusercontent.com/davidsbatista/NER-datasets/master/CONLL2003/test.txt"
   ]
  },
  {
   "cell_type": "code",
   "execution_count": null,
   "metadata": {},
   "outputs": [],
   "source": []
  },
  {
   "cell_type": "code",
   "execution_count": 2,
   "metadata": {},
   "outputs": [
    {
     "name": "stdout",
     "output_type": "stream",
     "text": [
      "-DOCSTART- -X- -X- O\r\n",
      "\r\n",
      "EU NNP B-NP B-ORG\r\n",
      "rejects VBZ B-VP O\r\n",
      "German JJ B-NP B-MISC\r\n",
      "call NN I-NP O\r\n",
      "to TO B-VP O\r\n",
      "boycott VB I-VP O\r\n",
      "British JJ B-NP B-MISC\r\n",
      "lamb NN I-NP O\r\n",
      ". . O O\r\n",
      "\r\n",
      "Peter NNP B-NP B-PER\r\n",
      "Blackburn NNP I-NP I-PER\r\n",
      "\r\n",
      "BRUSSELS NNP B-NP B-LOC\r\n",
      "1996-08-22 CD I-NP O\r\n",
      "\r\n",
      "The DT B-NP O\r\n",
      "European NNP I-NP B-ORG\r\n"
     ]
    }
   ],
   "source": [
    "! head -n 20 conll03/train.conll"
   ]
  },
  {
   "cell_type": "code",
   "execution_count": null,
   "metadata": {},
   "outputs": [],
   "source": []
  },
  {
   "cell_type": "code",
   "execution_count": 3,
   "metadata": {},
   "outputs": [
    {
     "data": {
      "text/plain": [
       "<spacy_crfsuite.crf_extractor.CRFExtractor at 0x10475c390>"
      ]
     },
     "execution_count": 3,
     "metadata": {},
     "output_type": "execute_result"
    }
   ],
   "source": [
    "from spacy_crfsuite import CRFExtractor\n",
    "\n",
    "component_config = {\n",
    "    \"BILOU_flag\": False,\n",
    "    \"features\": [\n",
    "        [\n",
    "            \"low\", \n",
    "            \"title\", \n",
    "            \"upper\", \n",
    "            \"pos\", \n",
    "            \"pos2\"\n",
    "        ],\n",
    "        [\n",
    "            \"low\",\n",
    "            \"bias\",\n",
    "            \"prefix5\",\n",
    "            \"prefix2\",\n",
    "            \"suffix5\",\n",
    "            \"suffix3\",\n",
    "            \"suffix2\",\n",
    "            \"upper\",\n",
    "            \"title\",\n",
    "            \"digit\",\n",
    "            \"pos\",\n",
    "            \"pos2\"\n",
    "        ],\n",
    "        [\n",
    "            \"low\", \n",
    "            \"title\", \n",
    "            \"upper\", \n",
    "            \"pos\", \n",
    "            \"pos2\"\n",
    "        ],\n",
    "    ],\n",
    "    \"c1\": 0.03,\n",
    "    \"c2\": 0.06\n",
    "}\n",
    "\n",
    "crf_extractor = CRFExtractor(component_config=component_config)\n",
    "crf_extractor"
   ]
  },
  {
   "cell_type": "code",
   "execution_count": null,
   "metadata": {},
   "outputs": [],
   "source": []
  },
  {
   "cell_type": "code",
   "execution_count": 4,
   "metadata": {},
   "outputs": [],
   "source": [
    "from tqdm.notebook import tqdm_notebook\n",
    "from spacy_crfsuite import read_file, prepare_example\n",
    "\n",
    "def read_examples(file, limit=None):\n",
    "    examples = []\n",
    "    it = read_file(file)\n",
    "    it = it[:limit] if limit else it\n",
    "    for raw_example in tqdm_notebook(it, desc=file):\n",
    "        ex = prepare_example(raw_example, crf_extractor=crf_extractor)\n",
    "        examples.append(ex)\n",
    "    return examples"
   ]
  },
  {
   "cell_type": "code",
   "execution_count": 5,
   "metadata": {},
   "outputs": [
    {
     "data": {
      "application/vnd.jupyter.widget-view+json": {
       "model_id": "ea20132a1ca94f6f9536e758dab57ffa",
       "version_major": 2,
       "version_minor": 0
      },
      "text/plain": [
       "HBox(children=(FloatProgress(value=0.0, description='conll03/valid.conll', max=3250.0, style=ProgressStyle(des…"
      ]
     },
     "metadata": {},
     "output_type": "display_data"
    },
    {
     "name": "stdout",
     "output_type": "stream",
     "text": [
      "\n",
      "Fitting 3 folds for each of 10 candidates, totalling 30 fits\n"
     ]
    },
    {
     "name": "stderr",
     "output_type": "stream",
     "text": [
      "/Users/talmago/git/spacy_crfsuite/.venv/lib/python3.6/site-packages/sklearn/base.py:213: FutureWarning: From version 0.24, get_params will raise an AttributeError if a parameter cannot be retrieved as an instance attribute. Previously it would return None.\n",
      "  FutureWarning)\n",
      "[Parallel(n_jobs=-1)]: Using backend LokyBackend with 8 concurrent workers.\n",
      "[Parallel(n_jobs=-1)]: Done  30 out of  30 | elapsed:  4.4min finished\n"
     ]
    },
    {
     "name": "stdout",
     "output_type": "stream",
     "text": [
      "{'c1': 0.0009937734676826594, 'c2': 0.024229930809336817}\n"
     ]
    }
   ],
   "source": [
    "# this is going to take a while, so you might need a coffee break ...\n",
    "val_examples = read_examples(\"conll03/valid.conll\")\n",
    "\n",
    "rs = crf_extractor.fine_tune(val_examples)\n",
    "print(rs.best_params_)"
   ]
  },
  {
   "cell_type": "code",
   "execution_count": 8,
   "metadata": {},
   "outputs": [],
   "source": [
    "crf_extractor.component_config[\"c1\"] = 0.001\n",
    "crf_extractor.component_config[\"c2\"] = 0.02"
   ]
  },
  {
   "cell_type": "code",
   "execution_count": 9,
   "metadata": {},
   "outputs": [
    {
     "data": {
      "application/vnd.jupyter.widget-view+json": {
       "model_id": "bdbb8d390839494b982b38dc36dda646",
       "version_major": 2,
       "version_minor": 0
      },
      "text/plain": [
       "HBox(children=(FloatProgress(value=0.0, description='conll03/train.conll', max=14041.0, style=ProgressStyle(de…"
      ]
     },
     "metadata": {},
     "output_type": "display_data"
    },
    {
     "name": "stdout",
     "output_type": "stream",
     "text": [
      "\n",
      "Most likely transitions:\n",
      "B-ORG      -> I-ORG      9.590496\n",
      "B-PER      -> I-PER      9.054956\n",
      "I-MISC     -> I-MISC     8.828105\n",
      "B-LOC      -> I-LOC      8.738556\n",
      "I-ORG      -> I-ORG      8.707403\n",
      "B-MISC     -> I-MISC     8.471613\n",
      "I-LOC      -> I-LOC      7.761805\n",
      "I-PER      -> I-PER      6.444599\n",
      "O          -> B-PER      4.446363\n",
      "O          -> O          3.553140\n",
      "\n",
      "Positive features:\n",
      "6.676161 B-ORG      1:low:arose\n",
      "6.660508 O          0:bias:bias\n",
      "6.481304 B-LOC      1:low:21,240\n",
      "6.402033 I-ORG      -1:low:bj\n",
      "5.906739 B-ORG      -1:low:v\n",
      "5.843368 I-ORG      -1:low:v\n",
      "5.653799 O          0:suffix3:day\n",
      "5.575185 B-LOC      1:low:raged\n",
      "5.573339 I-LOC      1:low:five\n",
      "5.146548 B-PER      BOS\n"
     ]
    }
   ],
   "source": [
    "train_examples = read_examples(\"conll03/train.conll\")\n",
    "crf_extractor.train(train_examples)\n",
    "\n",
    "print(crf_extractor.explain())"
   ]
  },
  {
   "cell_type": "code",
   "execution_count": null,
   "metadata": {},
   "outputs": [],
   "source": []
  },
  {
   "cell_type": "code",
   "execution_count": 10,
   "metadata": {},
   "outputs": [
    {
     "data": {
      "application/vnd.jupyter.widget-view+json": {
       "model_id": "be5d056d884f41179b1fd3463a748a41",
       "version_major": 2,
       "version_minor": 0
      },
      "text/plain": [
       "HBox(children=(FloatProgress(value=0.0, description='conll03/test.conll', max=3453.0, style=ProgressStyle(desc…"
      ]
     },
     "metadata": {},
     "output_type": "display_data"
    },
    {
     "name": "stdout",
     "output_type": "stream",
     "text": [
      "\n"
     ]
    },
    {
     "name": "stderr",
     "output_type": "stream",
     "text": [
      "/Users/talmago/git/spacy_crfsuite/.venv/lib/python3.6/site-packages/sklearn/utils/validation.py:71: FutureWarning: Pass labels=['B-LOC', 'I-LOC', 'B-MISC', 'I-MISC', 'B-ORG', 'I-ORG', 'B-PER', 'I-PER'] as keyword args. From version 0.25 passing these as positional arguments will result in an error\n",
      "  FutureWarning)\n"
     ]
    },
    {
     "name": "stdout",
     "output_type": "stream",
     "text": [
      "              precision    recall  f1-score   support\n",
      "\n",
      "       B-LOC      0.854     0.880     0.867      1615\n",
      "       I-LOC      0.769     0.714     0.741       238\n",
      "      B-MISC      0.790     0.758     0.773       698\n",
      "      I-MISC      0.643     0.652     0.647       207\n",
      "       B-ORG      0.797     0.729     0.761      1644\n",
      "       I-ORG      0.720     0.753     0.736       818\n",
      "       B-PER      0.859     0.856     0.857      1592\n",
      "       I-PER      0.900     0.951     0.925      1117\n",
      "\n",
      "   micro avg      0.823     0.819     0.821      7929\n",
      "   macro avg      0.791     0.787     0.789      7929\n",
      "weighted avg      0.822     0.819     0.820      7929\n",
      "\n"
     ]
    }
   ],
   "source": [
    "test_examples = read_examples(\"conll03/test.conll\")\n",
    "f1_score, classification_report = crf_extractor.eval(test_examples)\n",
    "\n",
    "print(classification_report)"
   ]
  },
  {
   "cell_type": "code",
   "execution_count": null,
   "metadata": {},
   "outputs": [],
   "source": []
  },
  {
   "cell_type": "code",
   "execution_count": 11,
   "metadata": {},
   "outputs": [
    {
     "name": "stdout",
     "output_type": "stream",
     "text": [
      "\u001b[38;5;4mℹ Inconsistent BILOU tagging found, B- tag, L- tag pair encloses\n",
      "multiple entity classes.i.e. [B-a, I-b, L-a] instead of [B-a, I-a, L-a].\n",
      "Assuming B- class is correct.\u001b[0m\n",
      "\u001b[38;5;4mℹ Inconsistent BILOU tagging found, B- tag not closed by L- tag, i.e\n",
      "[B-a, I-a, O] instead of [B-a, L-a, O]. Assuming last tag is L-\u001b[0m\n",
      "\u001b[38;5;4mℹ Inconsistent BILOU tagging found, B- tag, L- tag pair encloses\n",
      "multiple entity classes.i.e. [B-a, I-b, L-a] instead of [B-a, I-a, L-a].\n",
      "Assuming B- class is correct.\u001b[0m\n",
      "\u001b[38;5;4mℹ Inconsistent BILOU tagging found, B- tag not closed by L- tag, i.e\n",
      "[B-a, I-a, O] instead of [B-a, L-a, O]. Assuming last tag is L-\u001b[0m\n",
      "\u001b[38;5;4mℹ Inconsistent BILOU tagging found, B- tag, L- tag pair encloses\n",
      "multiple entity classes.i.e. [B-a, I-b, L-a] instead of [B-a, I-a, L-a].\n",
      "Assuming B- class is correct.\u001b[0m\n",
      "\u001b[38;5;4mℹ Inconsistent BILOU tagging found, B- tag not closed by L- tag, i.e\n",
      "[B-a, I-a, O] instead of [B-a, L-a, O]. Assuming last tag is L-\u001b[0m\n",
      "George Walker Bush - PER\n",
      "American - MISC\n",
      "United States - LOC\n"
     ]
    }
   ],
   "source": [
    "# Example of a spaCy pipeline\n",
    "import spacy\n",
    "from spacy_crfsuite import CRFEntityExtractor\n",
    "\n",
    "# We need to mark the BILOU flag which is also good for IOB scheme. \n",
    "# Otherwise, entities will be word-level.\n",
    "crf_extractor.component_config[\"BILOU_flag\"] = True\n",
    "\n",
    "\n",
    "# Create a blank model\n",
    "nlp = spacy.blank(\"en\")\n",
    "\n",
    "# Add a our CRF tagger to pipeline\n",
    "pipe = CRFEntityExtractor(nlp, crf_extractor=crf_extractor)\n",
    "nlp.add_pipe(pipe)\n",
    "\n",
    "# And use natively ..\n",
    "doc = nlp(\n",
    "    \"George Walker Bush (born July 6, 1946) is an American politician and businessman \"\n",
    "    \"who served as the 43rd president of the United States from 2001 to 2009.\")\n",
    "\n",
    "for ent in doc.ents:\n",
    "    print(ent, \"-\", ent.label_)"
   ]
  },
  {
   "cell_type": "code",
   "execution_count": null,
   "metadata": {},
   "outputs": [],
   "source": []
  },
  {
   "cell_type": "code",
   "execution_count": null,
   "metadata": {},
   "outputs": [],
   "source": [
    "# Save model to disk ..\n",
    "crf_extractor.to_disk(\"spacy_crfsuite_conll03.bz2\")"
   ]
  }
 ],
 "metadata": {
  "kernelspec": {
   "display_name": "Python 3",
   "language": "python",
   "name": "python3"
  },
  "language_info": {
   "codemirror_mode": {
    "name": "ipython",
    "version": 3
   },
   "file_extension": ".py",
   "mimetype": "text/x-python",
   "name": "python",
   "nbconvert_exporter": "python",
   "pygments_lexer": "ipython3",
   "version": "3.6.9"
  }
 },
 "nbformat": 4,
 "nbformat_minor": 4
}
