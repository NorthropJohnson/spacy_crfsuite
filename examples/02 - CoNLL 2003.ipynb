{
 "cells": [
  {
   "cell_type": "code",
   "execution_count": 1,
   "metadata": {},
   "outputs": [],
   "source": [
    "# Uncomment to download the CoNLL 2003 dataset\n",
    "# \n",
    "# ! mkdir -p conll03\n",
    "# ! wget -q -O conll03/train.conll https://raw.githubusercontent.com/davidsbatista/NER-datasets/master/CONLL2003/train.txt\n",
    "# ! wget -q -O conll03/valid.conll https://raw.githubusercontent.com/davidsbatista/NER-datasets/master/CONLL2003/valid.txt\n",
    "# ! wget -q -O conll03/test.conll https://raw.githubusercontent.com/davidsbatista/NER-datasets/master/CONLL2003/test.txt"
   ]
  },
  {
   "cell_type": "code",
   "execution_count": null,
   "metadata": {},
   "outputs": [],
   "source": []
  },
  {
   "cell_type": "code",
   "execution_count": 2,
   "metadata": {},
   "outputs": [
    {
     "name": "stdout",
     "output_type": "stream",
     "text": [
      "-DOCSTART- -X- -X- O\r\n",
      "\r\n",
      "EU NNP B-NP B-ORG\r\n",
      "rejects VBZ B-VP O\r\n",
      "German JJ B-NP B-MISC\r\n",
      "call NN I-NP O\r\n",
      "to TO B-VP O\r\n",
      "boycott VB I-VP O\r\n",
      "British JJ B-NP B-MISC\r\n",
      "lamb NN I-NP O\r\n",
      ". . O O\r\n",
      "\r\n",
      "Peter NNP B-NP B-PER\r\n",
      "Blackburn NNP I-NP I-PER\r\n",
      "\r\n",
      "BRUSSELS NNP B-NP B-LOC\r\n",
      "1996-08-22 CD I-NP O\r\n",
      "\r\n",
      "The DT B-NP O\r\n",
      "European NNP I-NP B-ORG\r\n"
     ]
    }
   ],
   "source": [
    "! head -n 20 conll03/train.conll"
   ]
  },
  {
   "cell_type": "code",
   "execution_count": null,
   "metadata": {},
   "outputs": [],
   "source": []
  },
  {
   "cell_type": "code",
   "execution_count": 3,
   "metadata": {},
   "outputs": [
    {
     "data": {
      "text/plain": [
       "<spacy_crfsuite.crf_extractor.CRFExtractor at 0x10b0eb390>"
      ]
     },
     "execution_count": 3,
     "metadata": {},
     "output_type": "execute_result"
    }
   ],
   "source": [
    "from spacy_crfsuite import CRFExtractor\n",
    "\n",
    "component_config = {\n",
    "    \"BILOU_flag\": False,\n",
    "    \"features\": [\n",
    "        [\n",
    "            \"low\", \n",
    "            \"title\", \n",
    "            \"upper\", \n",
    "            \"pos\", \n",
    "            \"pos2\"\n",
    "        ],\n",
    "        [\n",
    "            \"low\",\n",
    "            \"bias\",\n",
    "            \"prefix5\",\n",
    "            \"prefix2\",\n",
    "            \"suffix5\",\n",
    "            \"suffix3\",\n",
    "            \"suffix2\",\n",
    "            \"upper\",\n",
    "            \"title\",\n",
    "            \"digit\",\n",
    "            \"pos\",\n",
    "            \"pos2\"\n",
    "        ],\n",
    "        [\n",
    "            \"low\", \n",
    "            \"title\", \n",
    "            \"upper\", \n",
    "            \"pos\", \n",
    "            \"pos2\"\n",
    "        ],\n",
    "    ],\n",
    "    \"c1\": 0.03,\n",
    "    \"c2\": 0.06\n",
    "}\n",
    "\n",
    "crf_extractor = CRFExtractor(component_config=component_config)\n",
    "crf_extractor"
   ]
  },
  {
   "cell_type": "code",
   "execution_count": null,
   "metadata": {},
   "outputs": [],
   "source": []
  },
  {
   "cell_type": "code",
   "execution_count": 4,
   "metadata": {},
   "outputs": [
    {
     "data": {
      "application/vnd.jupyter.widget-view+json": {
       "model_id": "0b3e62a03f2c496fbec7afb100f307f9",
       "version_major": 2,
       "version_minor": 0
      },
      "text/plain": [
       "HBox(children=(FloatProgress(value=0.0, description='conll03/train.conll', max=14041.0, style=ProgressStyle(de…"
      ]
     },
     "metadata": {},
     "output_type": "display_data"
    },
    {
     "name": "stdout",
     "output_type": "stream",
     "text": [
      "\n"
     ]
    },
    {
     "data": {
      "application/vnd.jupyter.widget-view+json": {
       "model_id": "b0cdbae0ecb54bf098719a4ab2b723dc",
       "version_major": 2,
       "version_minor": 0
      },
      "text/plain": [
       "HBox(children=(FloatProgress(value=0.0, description='conll03/test.conll', max=3453.0, style=ProgressStyle(desc…"
      ]
     },
     "metadata": {},
     "output_type": "display_data"
    },
    {
     "name": "stdout",
     "output_type": "stream",
     "text": [
      "\n"
     ]
    }
   ],
   "source": [
    "from tqdm.notebook import tqdm_notebook\n",
    "from spacy_crfsuite import read_file, prepare_example\n",
    "\n",
    "def read_examples(file, limit=None):\n",
    "    examples = []\n",
    "    it = read_file(file)\n",
    "    it = it[:limit] if limit else it\n",
    "    for raw_example in tqdm_notebook(it, desc=file):\n",
    "        ex = prepare_example(raw_example, crf_extractor=crf_extractor)\n",
    "        examples.append(ex)\n",
    "    return examples\n",
    "\n",
    "train_examples = read_examples(\"conll03/train.conll\")\n",
    "dev_examples = read_examples(\"conll03/test.conll\")"
   ]
  },
  {
   "cell_type": "code",
   "execution_count": null,
   "metadata": {},
   "outputs": [],
   "source": []
  },
  {
   "cell_type": "code",
   "execution_count": 5,
   "metadata": {},
   "outputs": [
    {
     "name": "stdout",
     "output_type": "stream",
     "text": [
      "Most likely transitions:\n",
      "B-ORG      -> I-ORG      8.325343\n",
      "B-PER      -> I-PER      8.274836\n",
      "I-ORG      -> I-ORG      7.803342\n",
      "I-MISC     -> I-MISC     7.773912\n",
      "B-LOC      -> I-LOC      7.627518\n",
      "B-MISC     -> I-MISC     7.384203\n",
      "I-LOC      -> I-LOC      6.976467\n",
      "I-PER      -> I-PER      5.985890\n",
      "O          -> B-PER      4.049560\n",
      "O          -> O          3.103193\n",
      "\n",
      "Positive features:\n",
      "6.239672 O          0:bias:bias\n",
      "5.356058 O          0:suffix3:day\n",
      "5.193756 B-ORG      -1:low:v\n",
      "5.035596 B-ORG      1:low:arose\n",
      "4.698496 B-PER      BOS\n",
      "4.621891 O          0:prefix2:W1\n",
      "4.572906 I-ORG      -1:low:bj\n",
      "4.381915 O          BOS\n",
      "4.320171 B-PER      0:prefix2:Mc\n",
      "4.158817 I-ORG      -1:low:v\n"
     ]
    }
   ],
   "source": [
    "crf_extractor.train(train_examples)\n",
    "\n",
    "print(crf_extractor.explain())"
   ]
  },
  {
   "cell_type": "code",
   "execution_count": null,
   "metadata": {},
   "outputs": [],
   "source": []
  },
  {
   "cell_type": "code",
   "execution_count": 6,
   "metadata": {},
   "outputs": [
    {
     "name": "stderr",
     "output_type": "stream",
     "text": [
      "/Users/talmago/git/spacy_crfsuite/.venv/lib/python3.6/site-packages/sklearn/utils/validation.py:71: FutureWarning: Pass labels=['B-LOC', 'I-LOC', 'B-MISC', 'I-MISC', 'B-ORG', 'I-ORG', 'B-PER', 'I-PER'] as keyword args. From version 0.25 passing these as positional arguments will result in an error\n",
      "  FutureWarning)\n"
     ]
    },
    {
     "name": "stdout",
     "output_type": "stream",
     "text": [
      "              precision    recall  f1-score   support\n",
      "\n",
      "       B-LOC      0.853     0.880     0.867      1615\n",
      "       I-LOC      0.757     0.706     0.730       238\n",
      "      B-MISC      0.808     0.759     0.783       698\n",
      "      I-MISC      0.652     0.662     0.657       207\n",
      "       B-ORG      0.806     0.725     0.763      1644\n",
      "       I-ORG      0.717     0.740     0.728       818\n",
      "       B-PER      0.847     0.861     0.854      1592\n",
      "       I-PER      0.886     0.955     0.919      1117\n",
      "\n",
      "   micro avg      0.822     0.819     0.820      7929\n",
      "   macro avg      0.791     0.786     0.788      7929\n",
      "weighted avg      0.821     0.819     0.819      7929\n",
      "\n"
     ]
    }
   ],
   "source": [
    "f1_score, classification_report = crf_extractor.eval(dev_examples)\n",
    "\n",
    "print(classification_report)"
   ]
  },
  {
   "cell_type": "code",
   "execution_count": null,
   "metadata": {},
   "outputs": [],
   "source": []
  },
  {
   "cell_type": "code",
   "execution_count": 7,
   "metadata": {},
   "outputs": [
    {
     "name": "stdout",
     "output_type": "stream",
     "text": [
      "\u001b[38;5;4mℹ Inconsistent BILOU tagging found, B- tag, L- tag pair encloses\n",
      "multiple entity classes.i.e. [B-a, I-b, L-a] instead of [B-a, I-a, L-a].\n",
      "Assuming B- class is correct.\u001b[0m\n",
      "\u001b[38;5;4mℹ Inconsistent BILOU tagging found, B- tag not closed by L- tag, i.e\n",
      "[B-a, I-a, O] instead of [B-a, L-a, O]. Assuming last tag is L-\u001b[0m\n",
      "\u001b[38;5;4mℹ Inconsistent BILOU tagging found, B- tag, L- tag pair encloses\n",
      "multiple entity classes.i.e. [B-a, I-b, L-a] instead of [B-a, I-a, L-a].\n",
      "Assuming B- class is correct.\u001b[0m\n",
      "\u001b[38;5;4mℹ Inconsistent BILOU tagging found, B- tag not closed by L- tag, i.e\n",
      "[B-a, I-a, O] instead of [B-a, L-a, O]. Assuming last tag is L-\u001b[0m\n",
      "\u001b[38;5;4mℹ Inconsistent BILOU tagging found, B- tag, L- tag pair encloses\n",
      "multiple entity classes.i.e. [B-a, I-b, L-a] instead of [B-a, I-a, L-a].\n",
      "Assuming B- class is correct.\u001b[0m\n",
      "\u001b[38;5;4mℹ Inconsistent BILOU tagging found, B- tag not closed by L- tag, i.e\n",
      "[B-a, I-a, O] instead of [B-a, L-a, O]. Assuming last tag is L-\u001b[0m\n",
      "George Walker Bush - PER\n",
      "American - MISC\n",
      "United States - LOC\n"
     ]
    }
   ],
   "source": [
    "import spacy\n",
    "\n",
    "from spacy_crfsuite import CRFEntityExtractor\n",
    "\n",
    "# Example of a spaCy pipeline\n",
    "nlp = spacy.blank(\"en\")\n",
    "\n",
    "# also good for IOB scheme ... otherwise, entities will be word-level.\n",
    "crf_extractor.component_config[\"BILOU_flag\"] = True\n",
    "\n",
    "pipe = CRFEntityExtractor(nlp, crf_extractor=crf_extractor)\n",
    "nlp.add_pipe(pipe)\n",
    "\n",
    "doc = nlp(\n",
    "    \"George Walker Bush (born July 6, 1946) is an American politician and businessman \"\n",
    "    \"who served as the 43rd president of the United States from 2001 to 2009.\")\n",
    "\n",
    "for ent in doc.ents:\n",
    "    print(ent, \"-\", ent.label_)"
   ]
  },
  {
   "cell_type": "code",
   "execution_count": 8,
   "metadata": {},
   "outputs": [],
   "source": [
    "crf_extractor.to_disk(\"spacy_crfsuite_conll03.bz2\")"
   ]
  }
 ],
 "metadata": {
  "kernelspec": {
   "display_name": "Python 3",
   "language": "python",
   "name": "python3"
  },
  "language_info": {
   "codemirror_mode": {
    "name": "ipython",
    "version": 3
   },
   "file_extension": ".py",
   "mimetype": "text/x-python",
   "name": "python",
   "nbconvert_exporter": "python",
   "pygments_lexer": "ipython3",
   "version": "3.6.9"
  }
 },
 "nbformat": 4,
 "nbformat_minor": 4
}
