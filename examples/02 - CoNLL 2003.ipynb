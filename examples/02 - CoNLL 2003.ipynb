{
 "cells": [
  {
   "cell_type": "code",
   "execution_count": 1,
   "metadata": {},
   "outputs": [],
   "source": [
    "# ! mkdir -p conll03\n",
    "# ! wget -q -O conll03/train.conll https://raw.githubusercontent.com/davidsbatista/NER-datasets/master/CONLL2003/train.txt\n",
    "# ! wget -q -O conll03/valid.conll https://raw.githubusercontent.com/davidsbatista/NER-datasets/master/CONLL2003/valid.txt\n",
    "# ! wget -q -O conll03/test.conll https://raw.githubusercontent.com/davidsbatista/NER-datasets/master/CONLL2003/test.txt"
   ]
  },
  {
   "cell_type": "code",
   "execution_count": 2,
   "metadata": {},
   "outputs": [
    {
     "name": "stdout",
     "output_type": "stream",
     "text": [
      "-DOCSTART- -X- -X- O\r\n",
      "\r\n",
      "EU NNP B-NP B-ORG\r\n",
      "rejects VBZ B-VP O\r\n",
      "German JJ B-NP B-MISC\r\n",
      "call NN I-NP O\r\n",
      "to TO B-VP O\r\n",
      "boycott VB I-VP O\r\n",
      "British JJ B-NP B-MISC\r\n",
      "lamb NN I-NP O\r\n",
      ". . O O\r\n",
      "\r\n",
      "Peter NNP B-NP B-PER\r\n",
      "Blackburn NNP I-NP I-PER\r\n",
      "\r\n",
      "BRUSSELS NNP B-NP B-LOC\r\n",
      "1996-08-22 CD I-NP O\r\n",
      "\r\n",
      "The DT B-NP O\r\n",
      "European NNP I-NP B-ORG\r\n"
     ]
    }
   ],
   "source": [
    "! head -n 20 conll03/train.conll"
   ]
  },
  {
   "cell_type": "code",
   "execution_count": null,
   "metadata": {},
   "outputs": [],
   "source": []
  },
  {
   "cell_type": "code",
   "execution_count": 3,
   "metadata": {},
   "outputs": [
    {
     "data": {
      "text/plain": [
       "<spacy_crfsuite.crf_extractor.CRFExtractor at 0x10f842518>"
      ]
     },
     "execution_count": 3,
     "metadata": {},
     "output_type": "execute_result"
    }
   ],
   "source": [
    "from spacy_crfsuite import CRFExtractor\n",
    "\n",
    "component_config = {\n",
    "    \"features\": [\n",
    "        [\n",
    "            \"low\", \n",
    "            \"title\", \n",
    "            \"upper\", \n",
    "            \"pos\", \n",
    "            \"pos2\"\n",
    "        ],\n",
    "        [\n",
    "            \"low\",\n",
    "            \"bias\",\n",
    "            \"prefix5\",\n",
    "            \"prefix2\",\n",
    "            \"suffix5\",\n",
    "            \"suffix3\",\n",
    "            \"suffix2\",\n",
    "            \"upper\",\n",
    "            \"title\",\n",
    "            \"digit\",\n",
    "            \"pos\",\n",
    "            \"pos2\"\n",
    "        ],\n",
    "        [\n",
    "            \"low\", \n",
    "            \"title\", \n",
    "            \"upper\", \n",
    "            \"pos\", \n",
    "            \"pos2\"\n",
    "        ],\n",
    "    ],\n",
    "    \"c1\": 0.03,\n",
    "    \"c2\": 0.06\n",
    "}\n",
    "\n",
    "crf_extractor = CRFExtractor(component_config=component_config)\n",
    "crf_extractor"
   ]
  },
  {
   "cell_type": "code",
   "execution_count": null,
   "metadata": {},
   "outputs": [],
   "source": []
  },
  {
   "cell_type": "code",
   "execution_count": 4,
   "metadata": {},
   "outputs": [
    {
     "data": {
      "application/vnd.jupyter.widget-view+json": {
       "model_id": "670f695b25744b90a63e4eed3234102e",
       "version_major": 2,
       "version_minor": 0
      },
      "text/plain": [
       "HBox(children=(FloatProgress(value=0.0, description='conll03/train.conll', max=14041.0, style=ProgressStyle(de…"
      ]
     },
     "metadata": {},
     "output_type": "display_data"
    },
    {
     "name": "stdout",
     "output_type": "stream",
     "text": [
      "\n"
     ]
    },
    {
     "data": {
      "application/vnd.jupyter.widget-view+json": {
       "model_id": "174d078215bf4e5b9392b7a8d8d51027",
       "version_major": 2,
       "version_minor": 0
      },
      "text/plain": [
       "HBox(children=(FloatProgress(value=0.0, description='conll03/test.conll', max=3453.0, style=ProgressStyle(desc…"
      ]
     },
     "metadata": {},
     "output_type": "display_data"
    },
    {
     "name": "stdout",
     "output_type": "stream",
     "text": [
      "\n",
      "train examples: 14041\n",
      "test examples: 3453\n"
     ]
    }
   ],
   "source": [
    "from tqdm.notebook import tqdm_notebook\n",
    "from spacy_crfsuite import read_file, prepare_example\n",
    "\n",
    "def read_examples(file, limit=None):\n",
    "    examples = []\n",
    "    it = read_file(file)\n",
    "    it = it[:limit] if limit else it\n",
    "    for raw_example in tqdm_notebook(it, desc=file):\n",
    "        ex = prepare_example(raw_example, crf_extractor=crf_extractor)\n",
    "        examples.append(ex)\n",
    "    return examples\n",
    "\n",
    "\n",
    "train_examples = read_examples(\"conll03/train.conll\")\n",
    "dev_examples = read_examples(\"conll03/test.conll\")"
   ]
  },
  {
   "cell_type": "code",
   "execution_count": null,
   "metadata": {},
   "outputs": [],
   "source": []
  },
  {
   "cell_type": "code",
   "execution_count": 5,
   "metadata": {},
   "outputs": [
    {
     "name": "stdout",
     "output_type": "stream",
     "text": [
      "Most likely transitions:\n",
      "U-ORG      -> U-ORG      4.760297\n",
      "U-LOC      -> U-LOC      4.300355\n",
      "U-MISC     -> U-MISC     4.216579\n",
      "U-PER      -> U-PER      3.858093\n",
      "O          -> O          2.211699\n",
      "O          -> U-LOC      0.306021\n",
      "U-PER      -> O          0.290876\n",
      "U-ORG      -> O          0.235541\n",
      "O          -> U-PER      0.210910\n",
      "O          -> U-MISC     0.202401\n",
      "\n",
      "Positive features:\n",
      "6.972993 U-ORG      1:low:inc.\n",
      "6.506540 O          0:prefix2:W1\n",
      "6.305071 U-ORG      -1:low:v\n",
      "5.906445 U-PER      0:prefix2:Mc\n",
      "5.841444 O          -1:low:stadler\n",
      "5.683671 U-ORG      1:low:arose\n",
      "5.536084 U-ORG      -1:low:bj\n",
      "5.160226 O          0:suffix3:day\n",
      "5.067074 U-LOC      -1:low:lord\n",
      "4.912943 U-MISC     1:low:vermonter\n"
     ]
    }
   ],
   "source": [
    "crf_extractor.train(train_examples)\n",
    "\n",
    "print(crf_extractor.explain())"
   ]
  },
  {
   "cell_type": "code",
   "execution_count": null,
   "metadata": {},
   "outputs": [],
   "source": []
  },
  {
   "cell_type": "code",
   "execution_count": 17,
   "metadata": {},
   "outputs": [
    {
     "data": {
      "text/plain": [
       "[CRFToken(text='The', tag='DT', entity='O', pattern={}, dense_features=[]),\n",
       " CRFToken(text='European', tag='NNP', entity='U-ORG', pattern={}, dense_features=[]),\n",
       " CRFToken(text='Commission', tag='NNP', entity='U-ORG', pattern={}, dense_features=[]),\n",
       " CRFToken(text='said', tag='VBD', entity='O', pattern={}, dense_features=[]),\n",
       " CRFToken(text='on', tag='IN', entity='O', pattern={}, dense_features=[]),\n",
       " CRFToken(text='Thursday', tag='NNP', entity='O', pattern={}, dense_features=[]),\n",
       " CRFToken(text='it', tag='PRP', entity='O', pattern={}, dense_features=[]),\n",
       " CRFToken(text='disagreed', tag='VBD', entity='O', pattern={}, dense_features=[]),\n",
       " CRFToken(text='with', tag='IN', entity='O', pattern={}, dense_features=[]),\n",
       " CRFToken(text='German', tag='JJ', entity='U-MISC', pattern={}, dense_features=[]),\n",
       " CRFToken(text='advice', tag='NN', entity='O', pattern={}, dense_features=[]),\n",
       " CRFToken(text='to', tag='TO', entity='O', pattern={}, dense_features=[]),\n",
       " CRFToken(text='consumers', tag='NNS', entity='O', pattern={}, dense_features=[]),\n",
       " CRFToken(text='to', tag='TO', entity='O', pattern={}, dense_features=[]),\n",
       " CRFToken(text='shun', tag='VB', entity='O', pattern={}, dense_features=[]),\n",
       " CRFToken(text='British', tag='JJ', entity='U-MISC', pattern={}, dense_features=[]),\n",
       " CRFToken(text='lamb', tag='NN', entity='O', pattern={}, dense_features=[]),\n",
       " CRFToken(text='until', tag='IN', entity='O', pattern={}, dense_features=[]),\n",
       " CRFToken(text='scientists', tag='NNS', entity='O', pattern={}, dense_features=[]),\n",
       " CRFToken(text='determine', tag='VBP', entity='O', pattern={}, dense_features=[]),\n",
       " CRFToken(text='whether', tag='IN', entity='O', pattern={}, dense_features=[]),\n",
       " CRFToken(text='mad', tag='JJ', entity='O', pattern={}, dense_features=[]),\n",
       " CRFToken(text='cow', tag='NN', entity='O', pattern={}, dense_features=[]),\n",
       " CRFToken(text='disease', tag='NN', entity='O', pattern={}, dense_features=[]),\n",
       " CRFToken(text='can', tag='MD', entity='O', pattern={}, dense_features=[]),\n",
       " CRFToken(text='be', tag='VB', entity='O', pattern={}, dense_features=[]),\n",
       " CRFToken(text='transmitted', tag='VBN', entity='O', pattern={}, dense_features=[]),\n",
       " CRFToken(text='to', tag='TO', entity='O', pattern={}, dense_features=[]),\n",
       " CRFToken(text='sheep', tag='NN', entity='O', pattern={}, dense_features=[])]"
      ]
     },
     "execution_count": 17,
     "metadata": {},
     "output_type": "execute_result"
    }
   ],
   "source": [
    "train_examples[3]"
   ]
  },
  {
   "cell_type": "code",
   "execution_count": null,
   "metadata": {},
   "outputs": [],
   "source": []
  },
  {
   "cell_type": "code",
   "execution_count": 6,
   "metadata": {},
   "outputs": [
    {
     "name": "stderr",
     "output_type": "stream",
     "text": [
      "/Users/talmago/git/spacy_crfsuite/.venv/lib/python3.6/site-packages/sklearn/utils/validation.py:71: FutureWarning: Pass labels=['U-LOC', 'U-MISC', 'U-ORG', 'U-PER'] as keyword args. From version 0.25 passing these as positional arguments will result in an error\n",
      "  FutureWarning)\n"
     ]
    },
    {
     "name": "stdout",
     "output_type": "stream",
     "text": [
      "              precision    recall  f1-score   support\n",
      "\n",
      "       U-LOC      0.848     0.875     0.861      1853\n",
      "      U-MISC      0.776     0.762     0.769       905\n",
      "       U-ORG      0.795     0.761     0.777      2462\n",
      "       U-PER      0.880     0.891     0.886      2709\n",
      "\n",
      "   micro avg      0.835     0.832     0.834      7929\n",
      "   macro avg      0.825     0.822     0.823      7929\n",
      "weighted avg      0.834     0.832     0.833      7929\n",
      "\n"
     ]
    }
   ],
   "source": [
    "f1_score, classification_report = crf_extractor.eval(dev_examples)\n",
    "\n",
    "print(classification_report)"
   ]
  },
  {
   "cell_type": "code",
   "execution_count": null,
   "metadata": {},
   "outputs": [],
   "source": []
  },
  {
   "cell_type": "code",
   "execution_count": null,
   "metadata": {},
   "outputs": [],
   "source": []
  },
  {
   "cell_type": "code",
   "execution_count": 32,
   "metadata": {},
   "outputs": [
    {
     "name": "stdout",
     "output_type": "stream",
     "text": [
      "George PER\n",
      "Walker PER\n",
      "Bush PER\n",
      "American MISC\n",
      "United LOC\n",
      "States LOC\n"
     ]
    }
   ],
   "source": [
    "import spacy\n",
    "\n",
    "from spacy_crfsuite import CRFEntityExtractor\n",
    "\n",
    "nlp = spacy.blank(\"en\")\n",
    "pipe = CRFEntityExtractor(nlp, crf_extractor=crf_extractor)\n",
    "nlp.add_pipe(pipe)\n",
    "\n",
    "doc = nlp(\n",
    "    \"George Walker Bush (born July 6, 1946) is an American politician and businessman \"\n",
    "    \"who served as the 43rd president of the United States from 2001 to 2009.\")\n",
    "\n",
    "for ent in doc.ents:\n",
    "    print(ent, ent.label_)"
   ]
  },
  {
   "cell_type": "code",
   "execution_count": null,
   "metadata": {},
   "outputs": [],
   "source": []
  },
  {
   "cell_type": "code",
   "execution_count": null,
   "metadata": {},
   "outputs": [],
   "source": []
  }
 ],
 "metadata": {
  "kernelspec": {
   "display_name": "Python 3",
   "language": "python",
   "name": "python3"
  },
  "language_info": {
   "codemirror_mode": {
    "name": "ipython",
    "version": 3
   },
   "file_extension": ".py",
   "mimetype": "text/x-python",
   "name": "python",
   "nbconvert_exporter": "python",
   "pygments_lexer": "ipython3",
   "version": "3.6.9"
  }
 },
 "nbformat": 4,
 "nbformat_minor": 4
}
