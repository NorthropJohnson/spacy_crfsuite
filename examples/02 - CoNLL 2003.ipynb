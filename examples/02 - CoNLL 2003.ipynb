{
 "cells": [
  {
   "cell_type": "code",
   "execution_count": 1,
   "metadata": {},
   "outputs": [],
   "source": [
    "# ! mkdir -p conll03\n",
    "# ! wget -q -O conll03/train.conll https://raw.githubusercontent.com/davidsbatista/NER-datasets/master/CONLL2003/train.txt\n",
    "# ! wget -q -O conll03/valid.conll https://raw.githubusercontent.com/davidsbatista/NER-datasets/master/CONLL2003/valid.txt\n",
    "# ! wget -q -O conll03/test.conll https://raw.githubusercontent.com/davidsbatista/NER-datasets/master/CONLL2003/test.txt"
   ]
  },
  {
   "cell_type": "code",
   "execution_count": 2,
   "metadata": {},
   "outputs": [
    {
     "name": "stdout",
     "output_type": "stream",
     "text": [
      "-DOCSTART- -X- -X- O\r\n",
      "\r\n",
      "EU NNP B-NP B-ORG\r\n",
      "rejects VBZ B-VP O\r\n",
      "German JJ B-NP B-MISC\r\n",
      "call NN I-NP O\r\n",
      "to TO B-VP O\r\n",
      "boycott VB I-VP O\r\n",
      "British JJ B-NP B-MISC\r\n",
      "lamb NN I-NP O\r\n"
     ]
    }
   ],
   "source": [
    "! head conll03/train.conll"
   ]
  },
  {
   "cell_type": "code",
   "execution_count": null,
   "metadata": {},
   "outputs": [],
   "source": []
  },
  {
   "cell_type": "code",
   "execution_count": 3,
   "metadata": {},
   "outputs": [
    {
     "name": "stdout",
     "output_type": "stream",
     "text": [
      "train examples: 14041\n",
      "valid examples: 3250\n",
      "test examples: 3453\n"
     ]
    }
   ],
   "source": [
    "from spacy_crfsuite.utils import read_examples\n",
    "\n",
    "train_data = read_examples(\"conll03/train.conll\")\n",
    "valid_data = read_examples(\"conll03/valid.conll\")\n",
    "test_data = read_examples(\"conll03/test.conll\")\n",
    "\n",
    "print(\"train examples:\", len(train_data))\n",
    "print(\"valid examples:\", len(valid_data))\n",
    "print(\"test examples:\", len(test_data))"
   ]
  },
  {
   "cell_type": "code",
   "execution_count": 4,
   "metadata": {},
   "outputs": [
    {
     "data": {
      "text/plain": [
       "{'text': 'EU rejects German call to boycott British lamb .',\n",
       " 'tokens': [<spacy_crfsuite.tokenizer.Token at 0x12c563dd8>,\n",
       "  <spacy_crfsuite.tokenizer.Token at 0x12c563e48>,\n",
       "  <spacy_crfsuite.tokenizer.Token at 0x12c563e80>,\n",
       "  <spacy_crfsuite.tokenizer.Token at 0x12c563ef0>,\n",
       "  <spacy_crfsuite.tokenizer.Token at 0x12c563f28>,\n",
       "  <spacy_crfsuite.tokenizer.Token at 0x12c563f60>,\n",
       "  <spacy_crfsuite.tokenizer.Token at 0x12c563f98>,\n",
       "  <spacy_crfsuite.tokenizer.Token at 0x12c551048>,\n",
       "  <spacy_crfsuite.tokenizer.Token at 0x12c551080>],\n",
       " 'entities': [{'value': 'EU', 'entity': 'ORG', 'start': 0, 'end': 2},\n",
       "  {'value': 'German', 'entity': 'MISC', 'start': 11, 'end': 17},\n",
       "  {'value': 'British', 'entity': 'MISC', 'start': 34, 'end': 41}]}"
      ]
     },
     "execution_count": 4,
     "metadata": {},
     "output_type": "execute_result"
    }
   ],
   "source": [
    "train_data[0]"
   ]
  },
  {
   "cell_type": "code",
   "execution_count": null,
   "metadata": {},
   "outputs": [],
   "source": []
  },
  {
   "cell_type": "code",
   "execution_count": 5,
   "metadata": {},
   "outputs": [
    {
     "data": {
      "text/plain": [
       "<spacy_crfsuite.crf_extractor.CRFExtractor at 0x10fe7f6a0>"
      ]
     },
     "execution_count": 5,
     "metadata": {},
     "output_type": "execute_result"
    }
   ],
   "source": [
    "from spacy_crfsuite import prepare_example, CRFExtractor\n",
    "\n",
    "crf_extractor = CRFExtractor(component_config={'c1': 0.03, 'c2': 0.06})\n",
    "crf_extractor"
   ]
  },
  {
   "cell_type": "code",
   "execution_count": null,
   "metadata": {},
   "outputs": [],
   "source": []
  },
  {
   "cell_type": "code",
   "execution_count": 6,
   "metadata": {},
   "outputs": [
    {
     "data": {
      "application/vnd.jupyter.widget-view+json": {
       "model_id": "c5257aa1b9ad454cbfa4c1c4e39fe6d0",
       "version_major": 2,
       "version_minor": 0
      },
      "text/plain": [
       "HBox(children=(FloatProgress(value=0.0, max=3000.0), HTML(value='')))"
      ]
     },
     "metadata": {},
     "output_type": "display_data"
    },
    {
     "name": "stdout",
     "output_type": "stream",
     "text": [
      "\n"
     ]
    }
   ],
   "source": [
    "from tqdm.notebook import tqdm_notebook\n",
    "\n",
    "train_examples = []\n",
    "for raw_example in tqdm_notebook(train_data[:3000]):\n",
    "    example = prepare_example(raw_example, crf_extractor=crf_extractor)\n",
    "    train_examples.append(example)"
   ]
  },
  {
   "cell_type": "code",
   "execution_count": null,
   "metadata": {},
   "outputs": [],
   "source": []
  },
  {
   "cell_type": "code",
   "execution_count": 8,
   "metadata": {},
   "outputs": [
    {
     "data": {
      "text/plain": [
       "<spacy_crfsuite.crf_extractor.CRFExtractor at 0x10fe7f6a0>"
      ]
     },
     "execution_count": 8,
     "metadata": {},
     "output_type": "execute_result"
    }
   ],
   "source": [
    "crf_extractor.train(train_examples)"
   ]
  },
  {
   "cell_type": "code",
   "execution_count": null,
   "metadata": {},
   "outputs": [],
   "source": []
  },
  {
   "cell_type": "code",
   "execution_count": 9,
   "metadata": {},
   "outputs": [
    {
     "name": "stdout",
     "output_type": "stream",
     "text": [
      "Most likely transitions:\n",
      "U-ORG      -> U-ORG      4.326296\n",
      "U-PER      -> U-PER      4.266279\n",
      "U-MISC     -> U-MISC     4.109938\n",
      "U-LOC      -> U-LOC      3.222692\n",
      "O          -> O          2.544722\n",
      "O          -> U-LOC      1.032091\n",
      "U-MISC     -> O          0.864462\n",
      "U-ORG      -> O          0.855243\n",
      "O          -> U-PER      0.812733\n",
      "O          -> U-MISC     0.725287\n",
      "\n",
      "Positive features:\n",
      "6.413900 O          0:prefix2:W1\n",
      "5.075359 O          0:bias:bias\n",
      "4.251132 U-ORG      1:low:yr\n",
      "4.195013 U-ORG      0:prefix2:x-\n",
      "3.889309 U-LOC      -1:low:at\n",
      "3.882487 O          0:suffix3:day\n",
      "3.768032 U-PER      0:title\n",
      "3.724738 U-ORG      1:low:0\n",
      "3.657899 U-ORG      -1:low:12\n",
      "3.650809 U-ORG      -1:low:v\n"
     ]
    }
   ],
   "source": [
    "print(crf_extractor.explain())"
   ]
  },
  {
   "cell_type": "code",
   "execution_count": null,
   "metadata": {},
   "outputs": [],
   "source": []
  },
  {
   "cell_type": "code",
   "execution_count": 10,
   "metadata": {},
   "outputs": [
    {
     "data": {
      "application/vnd.jupyter.widget-view+json": {
       "model_id": "2009665ee6be42eab6830b90fe331ef0",
       "version_major": 2,
       "version_minor": 0
      },
      "text/plain": [
       "HBox(children=(FloatProgress(value=0.0, max=1000.0), HTML(value='')))"
      ]
     },
     "metadata": {},
     "output_type": "display_data"
    },
    {
     "name": "stdout",
     "output_type": "stream",
     "text": [
      "\n"
     ]
    }
   ],
   "source": [
    "dev_examples = []\n",
    "for raw_example in tqdm_notebook(test_data[:1000]):\n",
    "    example = prepare_example(raw_example, crf_extractor=crf_extractor)\n",
    "    dev_examples.append(example)"
   ]
  },
  {
   "cell_type": "code",
   "execution_count": null,
   "metadata": {},
   "outputs": [],
   "source": []
  },
  {
   "cell_type": "code",
   "execution_count": 11,
   "metadata": {},
   "outputs": [
    {
     "name": "stdout",
     "output_type": "stream",
     "text": [
      "              precision    recall  f1-score   support\n",
      "\n",
      "       U-LOC      0.731     0.804     0.766       480\n",
      "      U-MISC      0.757     0.726     0.741       274\n",
      "       U-ORG      0.764     0.491     0.598       731\n",
      "       U-PER      0.832     0.863     0.847      1130\n",
      "\n",
      "   micro avg      0.789     0.734     0.760      2615\n",
      "   macro avg      0.771     0.721     0.738      2615\n",
      "weighted avg      0.786     0.734     0.751      2615\n",
      "\n"
     ]
    },
    {
     "name": "stderr",
     "output_type": "stream",
     "text": [
      "/Users/talmago/git/spacy_crfsuite/.venv/lib/python3.6/site-packages/sklearn/utils/validation.py:71: FutureWarning: Pass labels=['U-LOC', 'U-MISC', 'U-ORG', 'U-PER'] as keyword args. From version 0.25 passing these as positional arguments will result in an error\n",
      "  FutureWarning)\n"
     ]
    }
   ],
   "source": [
    "f1_score, classification_report = crf_extractor.eval(dev_examples)\n",
    "\n",
    "print(classification_report)"
   ]
  }
 ],
 "metadata": {
  "kernelspec": {
   "display_name": "Python 3",
   "language": "python",
   "name": "python3"
  },
  "language_info": {
   "codemirror_mode": {
    "name": "ipython",
    "version": 3
   },
   "file_extension": ".py",
   "mimetype": "text/x-python",
   "name": "python",
   "nbconvert_exporter": "python",
   "pygments_lexer": "ipython3",
   "version": "3.6.9"
  }
 },
 "nbformat": 4,
 "nbformat_minor": 4
}
